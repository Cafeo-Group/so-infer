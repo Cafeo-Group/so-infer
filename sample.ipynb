{
 "cells": [
  {
   "cell_type": "markdown",
   "metadata": {},
   "source": [
    "> *python3 main.py*"
   ]
  },
  {
   "cell_type": "markdown",
   "metadata": {},
   "source": [
    "**☝️Run on Terminal**<br>\n",
    "**👇Run on Notebook**"
   ]
  },
  {
   "cell_type": "markdown",
   "metadata": {},
   "source": [
    "Let's start by importing the necessary libraries."
   ]
  },
  {
   "cell_type": "code",
   "execution_count": 89,
   "metadata": {},
   "outputs": [
    {
     "name": "stdout",
     "output_type": "stream",
     "text": [
      "Defaulting to user installation because normal site-packages is not writeable\n",
      "Requirement already satisfied: plotly in c:\\users\\oheit\\appdata\\local\\packages\\pythonsoftwarefoundation.python.3.12_qbz5n2kfra8p0\\localcache\\local-packages\\python312\\site-packages (5.24.1)\n",
      "Requirement already satisfied: pandas in c:\\users\\oheit\\appdata\\local\\packages\\pythonsoftwarefoundation.python.3.12_qbz5n2kfra8p0\\localcache\\local-packages\\python312\\site-packages (2.2.2)\n",
      "Requirement already satisfied: tenacity>=6.2.0 in c:\\users\\oheit\\appdata\\local\\packages\\pythonsoftwarefoundation.python.3.12_qbz5n2kfra8p0\\localcache\\local-packages\\python312\\site-packages (from plotly) (9.0.0)\n",
      "Requirement already satisfied: packaging in c:\\users\\oheit\\appdata\\local\\packages\\pythonsoftwarefoundation.python.3.12_qbz5n2kfra8p0\\localcache\\local-packages\\python312\\site-packages (from plotly) (24.0)\n",
      "Requirement already satisfied: numpy>=1.26.0 in c:\\users\\oheit\\appdata\\local\\packages\\pythonsoftwarefoundation.python.3.12_qbz5n2kfra8p0\\localcache\\local-packages\\python312\\site-packages (from pandas) (1.26.4)\n",
      "Requirement already satisfied: python-dateutil>=2.8.2 in c:\\users\\oheit\\appdata\\local\\packages\\pythonsoftwarefoundation.python.3.12_qbz5n2kfra8p0\\localcache\\local-packages\\python312\\site-packages (from pandas) (2.9.0.post0)\n",
      "Requirement already satisfied: pytz>=2020.1 in c:\\users\\oheit\\appdata\\local\\packages\\pythonsoftwarefoundation.python.3.12_qbz5n2kfra8p0\\localcache\\local-packages\\python312\\site-packages (from pandas) (2024.1)\n",
      "Requirement already satisfied: tzdata>=2022.7 in c:\\users\\oheit\\appdata\\local\\packages\\pythonsoftwarefoundation.python.3.12_qbz5n2kfra8p0\\localcache\\local-packages\\python312\\site-packages (from pandas) (2024.1)\n",
      "Requirement already satisfied: six>=1.5 in c:\\users\\oheit\\appdata\\local\\packages\\pythonsoftwarefoundation.python.3.12_qbz5n2kfra8p0\\localcache\\local-packages\\python312\\site-packages (from python-dateutil>=2.8.2->pandas) (1.16.0)\n",
      "Note: you may need to restart the kernel to use updated packages.\n"
     ]
    },
    {
     "name": "stderr",
     "output_type": "stream",
     "text": [
      "\n",
      "[notice] A new release of pip is available: 24.2 -> 24.3.1\n",
      "[notice] To update, run: C:\\Users\\oheit\\AppData\\Local\\Microsoft\\WindowsApps\\PythonSoftwareFoundation.Python.3.12_qbz5n2kfra8p0\\python.exe -m pip install --upgrade pip\n"
     ]
    }
   ],
   "source": [
    "%pip install plotly pandas"
   ]
  },
  {
   "cell_type": "markdown",
   "metadata": {},
   "source": [
    "From the file `methods`, we can import all the methods needed for extracting the required code samples."
   ]
  },
  {
   "cell_type": "code",
   "execution_count": 90,
   "metadata": {},
   "outputs": [],
   "source": [
    "from methods import (filter_by_date, get_samples_from_csv, split_samples,\n",
    "                     get_paths, get_by_path, create_csv_with_samples)\n",
    "from datetime import datetime"
   ]
  },
  {
   "cell_type": "markdown",
   "metadata": {},
   "source": [
    "From the code samples provided, let's utilize code samples posted on StackOverflow within the period from 01/01/2023 to 06/05/2024. Afterwards, let's split the result between `answered` and `unanswered`."
   ]
  },
  {
   "cell_type": "code",
   "execution_count": 91,
   "metadata": {},
   "outputs": [
    {
     "name": "stdout",
     "output_type": "stream",
     "text": [
      "[('github.com', 'compose-samples', '75721334', '2023-03-13T11:34:55.060', '7767664', '1', '75721679'), ('github.com', 'compose-samples', '76528454', '2023-06-22T03:33:51.763', '828896', '1', '76586020'), ('github.com', 'compose-samples', '76685433', '2023-07-14T07:09:53.700', '21197370', '1', '76692740'), ('github.com', 'compose-samples', '77297409', '2023-10-15T15:52:44.370', '15597975', '1', '77297541'), ('github.com', 'nowinandroid', '75495824', '2023-02-18T19:22:55.193', '15597975', '1', '75692828'), ('github.com', 'nowinandroid', '75721334', '2023-03-13T11:34:55.060', '7767664', '1', '75721679'), ('github.com', 'nowinandroid', '75855649', '2023-03-27T12:18:20.317', '7767664', '1', '75856486'), ('github.com', 'snippets', '76912586', '2023-08-16T10:10:45.060', '6751083', '1', '76918823'), ('github.com', 'wear-os-samples', '75455218', '2023-02-15T03:21:35.907', '20057970', '1', '77393816'), ('github.com', 'user-interface-samples', '75907763', '2023-04-01T17:24:20.537', '21544331', '1', '76852460'), ('github.com', 'architecture-samples', '76040679', '2023-04-18T02:39:49.850', '19659923', '1', '76040726'), ('github.com', 'architecture-samples', '76404243', '2023-06-05T07:19:29.547', '828896', '1', '76407457'), ('github.com', 'architecture-samples', '76428050', '2023-06-08T01:30:41.183', '828896', '1', '76431705'), ('github.com', 'architecture-samples', '76573968', '2023-06-28T14:04:51.003', '21056841', '1', '76574305'), ('github.com', 'health-samples', '75455218', '2023-02-15T03:21:35.907', '20057970', '1', '77393816'), ('github.com', 'health-samples', '76710253', '2023-07-18T07:05:58.607', '1397821', '1', '76725077'), ('github.com', 'ndk', '76677079', '2023-07-13T07:51:32.600', '8187815', '1', '76677513'), ('github.com', 'sunflower', '77196774', '2023-09-28T16:31:20.437', '3262799', '1', '77197255'), ('github.com', 'connectivity-samples', '77410403', '2023-11-02T14:24:42.050', '22845123', '1', '77423516'), ('github.com', 'tv-samples', '76842673', '2023-08-05T16:56:48.437', '19371763', '1', '76888586'), ('github.com', 'car-samples', '76454276', '2023-06-12T07:05:47.227', '13370504', '1', '76459011'), ('github.com', 'car-samples', '77362607', '2023-10-25T20:11:32.470', '16009783', '1', '77362724'), ('github.com', 'storage-samples', '75517788', '2023-02-21T08:12:48.223', '11793117', '1', '75523696'), ('github.com', 'rr', '75455218', '2023-02-15T03:21:35.907', '20057970', '1', '77393816'), ('github.com', 'rr', '75495824', '2023-02-18T19:22:55.193', '15597975', '1', '75692828'), ('github.com', 'rr', '75517788', '2023-02-21T08:12:48.223', '11793117', '1', '75523696'), ('github.com', 'rr', '75721334', '2023-03-13T11:34:55.060', '7767664', '1', '75721679'), ('github.com', 'rr', '75855649', '2023-03-27T12:18:20.317', '7767664', '1', '75856486'), ('github.com', 'rr', '75907763', '2023-04-01T17:24:20.537', '21544331', '1', '76852460'), ('github.com', 'rr', '76040679', '2023-04-18T02:39:49.850', '19659923', '1', '76040726'), ('github.com', 'rr', '76404243', '2023-06-05T07:19:29.547', '828896', '1', '76407457'), ('github.com', 'rr', '76428050', '2023-06-08T01:30:41.183', '828896', '1', '76431705'), ('github.com', 'rr', '76454276', '2023-06-12T07:05:47.227', '13370504', '1', '76459011'), ('github.com', 'rr', '76528454', '2023-06-22T03:33:51.763', '828896', '1', '76586020'), ('github.com', 'rr', '76573968', '2023-06-28T14:04:51.003', '21056841', '1', '76574305'), ('github.com', 'rr', '76677079', '2023-07-13T07:51:32.600', '8187815', '1', '76677513'), ('github.com', 'rr', '76685433', '2023-07-14T07:09:53.700', '21197370', '1', '76692740'), ('github.com', 'rr', '76710253', '2023-07-18T07:05:58.607', '1397821', '1', '76725077'), ('github.com', 'rr', '76842673', '2023-08-05T16:56:48.437', '19371763', '1', '76888586'), ('github.com', 'rr', '76912586', '2023-08-16T10:10:45.060', '6751083', '1', '76918823'), ('github.com', 'rr', '77196774', '2023-09-28T16:31:20.437', '3262799', '1', '77197255'), ('github.com', 'rr', '77297409', '2023-10-15T15:52:44.370', '15597975', '1', '77297541'), ('github.com', 'rr', '77362607', '2023-10-25T20:11:32.470', '16009783', '1', '77362724'), ('github.com', 'rr', '77410403', '2023-11-02T14:24:42.050', '22845123', '1', '77423516'), ('github.com', 'kotlin', '76040679', '2023-04-18T02:39:49.850', '19659923', '1', '76040726'), ('github.com', 'kotlin', '76573968', '2023-06-28T14:04:51.003', '21056841', '1', '76574305'), ('github.com', 'kotlin', '77297409', '2023-10-15T15:52:44.370', '15597975', '1', '77297541'), ('github.com', '.github', '75517788', '2023-02-21T08:12:48.223', '11793117', '1', '75523696')]\n",
      "[('github.com', 'android-test', '76049722', '2023-04-18T23:29:37.090', '20133009', '1', ''), ('github.com', 'compose-samples', '76413039', '2023-06-06T09:06:10.173', '828896', '1', ''), ('github.com', 'compose-samples', '76483173', '2023-06-15T13:48:58.110', '11971209', '1', ''), ('github.com', 'compose-samples', '76580044', '2023-06-29T10:06:27.400', '2412909', '1', ''), ('github.com', 'compose-samples', '76720791', '2023-07-19T11:25:24.197', '14274660', '1', ''), ('github.com', 'compose-samples', '76759087', '2023-07-25T02:19:37.673', '828896', '1', ''), ('github.com', 'nowinandroid', '74983330', '2023-01-02T14:01:51.610', '13558952', '1', ''), ('github.com', 'nowinandroid', '75134958', '2023-01-16T13:34:28.330', '11426020', '1', ''), ('github.com', 'nowinandroid', '75295307', '2023-01-31T09:49:18.307', '5165631', '1', ''), ('github.com', 'nowinandroid', '75378697', '2023-02-07T20:31:47.820', '4200187', '1', ''), ('github.com', 'nowinandroid', '75392172', '2023-02-08T21:59:53.260', '337455', '1', ''), ('github.com', 'nowinandroid', '75583497', '2023-02-27T17:09:16.353', '16477764', '1', ''), ('github.com', 'nowinandroid', '75965916', '2023-04-08T14:53:39.257', '21404883', '1', ''), ('github.com', 'nowinandroid', '76045365', '2023-04-18T13:44:08.877', '12956917', '1', ''), ('github.com', 'nowinandroid', '76051526', '2023-04-19T06:55:36.747', '7279304', '1', ''), ('github.com', 'nowinandroid', '76139169', '2023-04-30T01:22:24.373', '19054870', '1', ''), ('github.com', 'nowinandroid', '76157365', '2023-05-02T17:21:13.793', '7767664', '1', ''), ('github.com', 'nowinandroid', '76888858', '2023-08-12T10:32:40.030', '8551764', '1', ''), ('github.com', 'nowinandroid', '76960994', '2023-08-23T11:38:09.507', '7767664', '1', ''), ('github.com', 'nowinandroid', '77203710', '2023-09-29T17:10:28.877', '5617087', '1', ''), ('github.com', 'nowinandroid', '77279080', '2023-10-12T08:48:48.693', '5595926', '1', ''), ('github.com', 'snippets', '76633910', '2023-07-07T04:15:45.960', '7637376', '1', ''), ('github.com', 'gradle-recipes', '76855573', '2023-08-07T22:52:22.553', '6540', '1', ''), ('github.com', 'wear-os-samples', '76989951', '2023-08-28T03:54:32.987', '3826764', '1', ''), ('github.com', 'ndk-samples', '77019845', '2023-08-31T23:53:25.553', '3657747', '1', ''), ('github.com', 'ndk-samples', '77509620', '2023-11-19T04:44:20.267', '1201089', '1', ''), ('github.com', 'user-interface-samples', '76873575', '2023-08-10T07:41:35.940', '10207502', '1', ''), ('github.com', 'user-interface-samples', '77305870', '2023-10-17T02:25:15.863', '7621652', '1', ''), ('github.com', 'camera-samples', '75202326', '2023-01-22T17:08:47.010', '1332872', '1', ''), ('github.com', 'camera-samples', '76442235', '2023-06-09T16:40:31.280', '10365380', '1', ''), ('github.com', 'camera-samples', '76578796', '2023-06-29T07:13:33.713', '20447173', '1', ''), ('github.com', 'camera-samples', '76620991', '2023-07-05T13:46:32.153', '3027124', '1', ''), ('github.com', 'camera-samples', '76834882', '2023-08-04T10:01:44.407', '20898616', '1', ''), ('github.com', 'camera-samples', '76857111', '2023-08-08T06:56:04.950', '20898616', '1', ''), ('github.com', 'camera-samples', '76920759', '2023-08-17T10:44:21.070', '2289835', '1', ''), ('github.com', 'camera-samples', '77539388', '2023-11-23T20:04:06.690', '9338303', '1', ''), ('github.com', 'codelab-android-compose', '77521746', '2023-11-21T09:40:42.727', '10384840', '1', ''), ('github.com', 'play-billing-samples', '75391157', '2023-02-08T20:01:10.340', '4898850', '1', ''), ('github.com', 'architecture-samples', '76413039', '2023-06-06T09:06:10.173', '828896', '1', ''), ('github.com', 'architecture-samples', '76759087', '2023-07-25T02:19:37.673', '828896', '1', ''), ('github.com', 'architecture-samples', '76780056', '2023-07-27T13:06:31.230', '9511089', '1', ''), ('github.com', 'animation-samples', '77004643', '2023-08-30T02:33:47.643', '277480', '1', ''), ('github.com', 'architecture-templates', '75077083', '2023-01-11T00:03:04.517', '3608785', '1', ''), ('github.com', 'health-samples', '75764660', '2023-03-17T07:12:09.663', '21417559', '1', ''), ('github.com', 'health-samples', '77323704', '2023-10-19T12:19:57.340', '22768458', '1', ''), ('github.com', 'platform-samples', '77101459', '2023-09-14T02:38:49.357', '3274094', '1', ''), ('github.com', 'identity-samples', '77005981', '2023-08-30T07:56:33.803', '22469750', '1', ''), ('github.com', 'identity-samples', '77247165', '2023-10-06T20:18:17.673', '1877798', '1', ''), ('github.com', 'ndk', '76376942', '2023-05-31T20:12:13.993', '2703209', '1', ''), ('github.com', 'ndk', '77002551', '2023-08-29T17:47:11.443', '10262233', '1', ''), ('github.com', 'ndk', '77019845', '2023-08-31T23:53:25.553', '3657747', '1', ''), ('github.com', 'ndk', '77509620', '2023-11-19T04:44:20.267', '1201089', '1', ''), ('github.com', 'ndk', '77569804', '2023-11-29T09:07:16.603', '7311026', '1', ''), ('github.com', 'testing-samples', '76778926', '2023-07-27T10:40:29.657', '21868331', '1', ''), ('github.com', 'sunflower', '75958426', '2023-04-07T12:28:29.477', '298288', '1', ''), ('github.com', 'performance-samples', '75385854', '2023-02-08T12:33:50.880', '1315447', '1', ''), ('github.com', 'codelab-android-paging', '77326720', '2023-10-19T19:55:52.750', '7741377', '1', ''), ('github.com', 'connectivity-samples', '75834654', '2023-03-24T14:05:49.297', '14332583', '1', ''), ('github.com', 'connectivity-samples', '76570546', '2023-06-28T06:22:43.070', '6425584', '1', ''), ('github.com', 'uamp', '76008772', '2023-04-13T18:37:06.190', '21636651', '1', ''), ('github.com', 'uamp', '76209223', '2023-05-09T12:11:09.087', '6429062', '1', ''), ('github.com', 'car-samples', '75940227', '2023-04-05T13:45:12.963', '4966265', '1', ''), ('github.com', 'architecture-components-samples', '75831449', '2023-03-24T08:31:30.140', '7500651', '1', ''), ('github.com', 'architecture-components-samples', '76186325', '2023-05-05T22:51:01.263', '9795906', '1', ''), ('github.com', 'architecture-components-samples', '76205159', '2023-05-09T00:32:24.403', '4744263', '1', ''), ('github.com', 'architecture-components-samples', '76326962', '2023-05-24T19:50:35.073', '7406511', '1', ''), ('github.com', 'architecture-components-samples', '76921943', '2023-08-17T13:21:36.067', '20279785', '1', ''), ('github.com', 'media-samples', '75412241', '2023-02-10T14:06:47.667', '4964009', '1', ''), ('github.com', 'media-samples', '75768757', '2023-03-17T14:24:59.000', '12379488', '1', ''), ('github.com', 'views-widgets-samples', '75212685', '2023-01-23T16:58:30.497', '3459089', '1', ''), ('github.com', 'renderscript-intrinsics-replacement-toolkit', '77482495', '2023-11-14T17:01:06.973', '6736299', '1', ''), ('github.com', 'renderscript-samples', '77587694', '2023-12-01T19:39:20.360', '7335974', '1', ''), ('github.com', 'location-samples', '75831118', '2023-03-24T07:51:02.670', '21479456', '1', ''), ('github.com', 'location-samples', '76859666', '2023-08-08T12:39:37.863', '10629280', '1', ''), ('github.com', 'rr', '74983330', '2023-01-02T14:01:51.610', '13558952', '1', ''), ('github.com', 'rr', '75077083', '2023-01-11T00:03:04.517', '3608785', '1', ''), ('github.com', 'rr', '75134958', '2023-01-16T13:34:28.330', '11426020', '1', ''), ('github.com', 'rr', '75202326', '2023-01-22T17:08:47.010', '1332872', '1', ''), ('github.com', 'rr', '75212685', '2023-01-23T16:58:30.497', '3459089', '1', ''), ('github.com', 'rr', '75295307', '2023-01-31T09:49:18.307', '5165631', '1', ''), ('github.com', 'rr', '75378697', '2023-02-07T20:31:47.820', '4200187', '1', ''), ('github.com', 'rr', '75385854', '2023-02-08T12:33:50.880', '1315447', '1', ''), ('github.com', 'rr', '75391157', '2023-02-08T20:01:10.340', '4898850', '1', ''), ('github.com', 'rr', '75392172', '2023-02-08T21:59:53.260', '337455', '1', ''), ('github.com', 'rr', '75412241', '2023-02-10T14:06:47.667', '4964009', '1', ''), ('github.com', 'rr', '75583497', '2023-02-27T17:09:16.353', '16477764', '1', ''), ('github.com', 'rr', '75764660', '2023-03-17T07:12:09.663', '21417559', '1', ''), ('github.com', 'rr', '75768757', '2023-03-17T14:24:59.000', '12379488', '1', ''), ('github.com', 'rr', '75831118', '2023-03-24T07:51:02.670', '21479456', '1', ''), ('github.com', 'rr', '75831449', '2023-03-24T08:31:30.140', '7500651', '1', ''), ('github.com', 'rr', '75834654', '2023-03-24T14:05:49.297', '14332583', '1', ''), ('github.com', 'rr', '75940227', '2023-04-05T13:45:12.963', '4966265', '1', ''), ('github.com', 'rr', '75958426', '2023-04-07T12:28:29.477', '298288', '1', ''), ('github.com', 'rr', '75965916', '2023-04-08T14:53:39.257', '21404883', '1', ''), ('github.com', 'rr', '76008772', '2023-04-13T18:37:06.190', '21636651', '1', ''), ('github.com', 'rr', '76045365', '2023-04-18T13:44:08.877', '12956917', '1', ''), ('github.com', 'rr', '76049722', '2023-04-18T23:29:37.090', '20133009', '1', ''), ('github.com', 'rr', '76051526', '2023-04-19T06:55:36.747', '7279304', '1', ''), ('github.com', 'rr', '76139169', '2023-04-30T01:22:24.373', '19054870', '1', ''), ('github.com', 'rr', '76157365', '2023-05-02T17:21:13.793', '7767664', '1', ''), ('github.com', 'rr', '76186325', '2023-05-05T22:51:01.263', '9795906', '1', ''), ('github.com', 'rr', '76205159', '2023-05-09T00:32:24.403', '4744263', '1', ''), ('github.com', 'rr', '76209223', '2023-05-09T12:11:09.087', '6429062', '1', ''), ('github.com', 'rr', '76326962', '2023-05-24T19:50:35.073', '7406511', '1', ''), ('github.com', 'rr', '76376942', '2023-05-31T20:12:13.993', '2703209', '1', ''), ('github.com', 'rr', '76413039', '2023-06-06T09:06:10.173', '828896', '1', ''), ('github.com', 'rr', '76442235', '2023-06-09T16:40:31.280', '10365380', '1', ''), ('github.com', 'rr', '76483173', '2023-06-15T13:48:58.110', '11971209', '1', ''), ('github.com', 'rr', '76570546', '2023-06-28T06:22:43.070', '6425584', '1', ''), ('github.com', 'rr', '76578796', '2023-06-29T07:13:33.713', '20447173', '1', ''), ('github.com', 'rr', '76580044', '2023-06-29T10:06:27.400', '2412909', '1', ''), ('github.com', 'rr', '76620991', '2023-07-05T13:46:32.153', '3027124', '1', ''), ('github.com', 'rr', '76633910', '2023-07-07T04:15:45.960', '7637376', '1', ''), ('github.com', 'rr', '76720791', '2023-07-19T11:25:24.197', '14274660', '1', ''), ('github.com', 'rr', '76759087', '2023-07-25T02:19:37.673', '828896', '1', ''), ('github.com', 'rr', '76778926', '2023-07-27T10:40:29.657', '21868331', '1', ''), ('github.com', 'rr', '76780056', '2023-07-27T13:06:31.230', '9511089', '1', ''), ('github.com', 'rr', '76834882', '2023-08-04T10:01:44.407', '20898616', '1', ''), ('github.com', 'rr', '76855573', '2023-08-07T22:52:22.553', '6540', '1', ''), ('github.com', 'rr', '76857111', '2023-08-08T06:56:04.950', '20898616', '1', ''), ('github.com', 'rr', '76859666', '2023-08-08T12:39:37.863', '10629280', '1', ''), ('github.com', 'rr', '76873575', '2023-08-10T07:41:35.940', '10207502', '1', ''), ('github.com', 'rr', '76888858', '2023-08-12T10:32:40.030', '8551764', '1', ''), ('github.com', 'rr', '76920759', '2023-08-17T10:44:21.070', '2289835', '1', ''), ('github.com', 'rr', '76921943', '2023-08-17T13:21:36.067', '20279785', '1', ''), ('github.com', 'rr', '76960994', '2023-08-23T11:38:09.507', '7767664', '1', ''), ('github.com', 'rr', '76989951', '2023-08-28T03:54:32.987', '3826764', '1', ''), ('github.com', 'rr', '77002551', '2023-08-29T17:47:11.443', '10262233', '1', ''), ('github.com', 'rr', '77004643', '2023-08-30T02:33:47.643', '277480', '1', ''), ('github.com', 'rr', '77005981', '2023-08-30T07:56:33.803', '22469750', '1', ''), ('github.com', 'rr', '77019845', '2023-08-31T23:53:25.553', '3657747', '1', ''), ('github.com', 'rr', '77101459', '2023-09-14T02:38:49.357', '3274094', '1', ''), ('github.com', 'rr', '77203710', '2023-09-29T17:10:28.877', '5617087', '1', ''), ('github.com', 'rr', '77247165', '2023-10-06T20:18:17.673', '1877798', '1', ''), ('github.com', 'rr', '77279080', '2023-10-12T08:48:48.693', '5595926', '1', ''), ('github.com', 'rr', '77305870', '2023-10-17T02:25:15.863', '7621652', '1', ''), ('github.com', 'rr', '77323704', '2023-10-19T12:19:57.340', '22768458', '1', ''), ('github.com', 'rr', '77326720', '2023-10-19T19:55:52.750', '7741377', '1', ''), ('github.com', 'rr', '77341468', '2023-10-22T19:47:53.717', '870122', '1', ''), ('github.com', 'rr', '77482495', '2023-11-14T17:01:06.973', '6736299', '1', ''), ('github.com', 'rr', '77509620', '2023-11-19T04:44:20.267', '1201089', '1', ''), ('github.com', 'rr', '77521746', '2023-11-21T09:40:42.727', '10384840', '1', ''), ('github.com', 'rr', '77539388', '2023-11-23T20:04:06.690', '9338303', '1', ''), ('github.com', 'rr', '77560830', '2023-11-28T01:16:31.577', '22340485', '1', ''), ('github.com', 'rr', '77569804', '2023-11-29T09:07:16.603', '7311026', '1', ''), ('github.com', 'rr', '77587694', '2023-12-01T19:39:20.360', '7335974', '1', ''), ('github.com', 'codelab-exoplayer-intro', '77560830', '2023-11-28T01:16:31.577', '22340485', '1', ''), ('github.com', 'codelab-android-navigation', '77341468', '2023-10-22T19:47:53.717', '870122', '1', ''), ('github.com', 'kotlin', '75295307', '2023-01-31T09:49:18.307', '5165631', '1', ''), ('github.com', 'kotlin', '75392172', '2023-02-08T21:59:53.260', '337455', '1', ''), ('github.com', 'kotlin', '75764660', '2023-03-17T07:12:09.663', '21417559', '1', ''), ('github.com', 'kotlin', '75831449', '2023-03-24T08:31:30.140', '7500651', '1', ''), ('github.com', 'kotlin', '76045365', '2023-04-18T13:44:08.877', '12956917', '1', ''), ('github.com', 'kotlin', '76483173', '2023-06-15T13:48:58.110', '11971209', '1', ''), ('github.com', 'kotlin', '76633910', '2023-07-07T04:15:45.960', '7637376', '1', ''), ('github.com', 'kotlin', '76855573', '2023-08-07T22:52:22.553', '6540', '1', ''), ('github.com', 'kotlin', '77005981', '2023-08-30T07:56:33.803', '22469750', '1', ''), ('github.com', 'kotlin', '77101459', '2023-09-14T02:38:49.357', '3274094', '1', ''), ('github.com', 'kotlin', '77323704', '2023-10-19T12:19:57.340', '22768458', '1', ''), ('github.com', '.github', '75768757', '2023-03-17T14:24:59.000', '12379488', '1', '')]\n"
     ]
    }
   ],
   "source": [
    "samples = filter_by_date(get_samples_from_csv('sampleQuestions.csv'), datetime.fromisoformat('2023-01-01'), datetime.fromisoformat('2024-06-05'))\n",
    "answered, unanswered = split_samples(samples)\n",
    "print(answered)\n",
    "print(unanswered)"
   ]
  },
  {
   "cell_type": "markdown",
   "metadata": {},
   "source": [
    "In order to compare results between the unanswered and answered questions groups equally, questions will be filtered by paths that are present in both groups."
   ]
  },
  {
   "cell_type": "code",
   "execution_count": 92,
   "metadata": {},
   "outputs": [
    {
     "data": {
      "text/plain": [
       "14"
      ]
     },
     "execution_count": 92,
     "metadata": {},
     "output_type": "execute_result"
    }
   ],
   "source": [
    "paths_in_both = get_paths(answered) & get_paths(unanswered)\n",
    "len(paths_in_both)"
   ]
  },
  {
   "cell_type": "markdown",
   "metadata": {},
   "source": [
    "As a result, we have 14 paths that are present in both groups (answered and unaswered).\n",
    "<br>\n",
    "Now it is possible to collect the code samples from these 14 common paths.\n",
    "<br>\n",
    "Furthermore, it is fair to also split them again."
   ]
  },
  {
   "cell_type": "code",
   "execution_count": 93,
   "metadata": {},
   "outputs": [],
   "source": [
    "by_path = []\n",
    "for path in paths_in_both:\n",
    "    by_path.extend(get_by_path(samples, path))\n",
    "ans_by_path, uns_by_path = split_samples(by_path)"
   ]
  },
  {
   "cell_type": "markdown",
   "metadata": {},
   "source": [
    "Check the data overview:"
   ]
  },
  {
   "cell_type": "code",
   "execution_count": 94,
   "metadata": {},
   "outputs": [
    {
     "name": "stdout",
     "output_type": "stream",
     "text": [
      "Total code samples from period: 208\n",
      "Total samples in both paths 168\n",
      "Answered from paths: 46\n",
      "Unanswered from paths: 122\n",
      "Total of paths present in both: 14\n",
      "List of paths in both: {'wear-os-samples', 'connectivity-samples', '.github', 'user-interface-samples', 'ndk', 'compose-samples', 'health-samples', 'nowinandroid', 'car-samples', 'rr', 'sunflower', 'kotlin', 'architecture-samples', 'snippets'}\n"
     ]
    }
   ],
   "source": [
    "print(f'Total code samples from period: {len(samples)}')\n",
    "print(f'Total samples in both paths {len(by_path)}')\n",
    "print(f'Answered from paths: {len(ans_by_path)}')\n",
    "print(f'Unanswered from paths: {len(uns_by_path)}')\n",
    "print(f'Total of paths present in both: {len(paths_in_both)}')\n",
    "print(f'List of paths in both: {paths_in_both}')"
   ]
  },
  {
   "cell_type": "markdown",
   "metadata": {},
   "source": [
    "Create a csv file with the data:"
   ]
  },
  {
   "cell_type": "code",
   "execution_count": 95,
   "metadata": {},
   "outputs": [],
   "source": [
    "create_csv_with_samples(by_path, 'samplesInBothPaths.csv')"
   ]
  },
  {
   "cell_type": "code",
   "execution_count": 96,
   "metadata": {},
   "outputs": [
    {
     "data": {
      "application/vnd.plotly.v1+json": {
       "config": {
        "plotlyServerURL": "https://plot.ly"
       },
       "data": [
        {
         "customdata": [
          [
           "rr"
          ],
          [
           "nowinandroid"
          ],
          [
           "kotlin"
          ],
          [
           "compose-samples"
          ],
          [
           "architecture-samples"
          ],
          [
           "ndk"
          ],
          [
           "health-samples"
          ],
          [
           "connectivity-samples"
          ],
          [
           "user-interface-samples"
          ],
          [
           "car-samples"
          ],
          [
           "wear-os-samples"
          ],
          [
           ".github"
          ],
          [
           "sunflower"
          ],
          [
           "snippets"
          ]
         ],
         "domain": {
          "x": [
           0,
           1
          ],
          "y": [
           0,
           1
          ]
         },
         "hovertemplate": "grupo=%{customdata[0]}<br>quantidade=%{value}<extra></extra>",
         "labels": [
          "rr",
          "nowinandroid",
          "kotlin",
          "compose-samples",
          "architecture-samples",
          "ndk",
          "health-samples",
          "connectivity-samples",
          "user-interface-samples",
          "car-samples",
          "wear-os-samples",
          ".github",
          "sunflower",
          "snippets"
         ],
         "legendgroup": "",
         "marker": {
          "colors": [
           "#636efa",
           "#EF553B",
           "#00cc96",
           "#ab63fa",
           "#FFA15A",
           "#19d3f3",
           "#FF6692",
           "#B6E880",
           "#FF97FF",
           "#FECB52",
           "#636efa",
           "#EF553B",
           "#00cc96",
           "#ab63fa"
          ]
         },
         "name": "",
         "showlegend": true,
         "textinfo": "percent+label",
         "textposition": "inside",
         "type": "pie",
         "values": [
          93,
          18,
          14,
          9,
          7,
          6,
          4,
          3,
          3,
          3,
          2,
          2,
          2,
          2
         ]
        }
       ],
       "layout": {
        "legend": {
         "tracegroupgap": 0
        },
        "template": {
         "data": {
          "bar": [
           {
            "error_x": {
             "color": "#2a3f5f"
            },
            "error_y": {
             "color": "#2a3f5f"
            },
            "marker": {
             "line": {
              "color": "#E5ECF6",
              "width": 0.5
             },
             "pattern": {
              "fillmode": "overlay",
              "size": 10,
              "solidity": 0.2
             }
            },
            "type": "bar"
           }
          ],
          "barpolar": [
           {
            "marker": {
             "line": {
              "color": "#E5ECF6",
              "width": 0.5
             },
             "pattern": {
              "fillmode": "overlay",
              "size": 10,
              "solidity": 0.2
             }
            },
            "type": "barpolar"
           }
          ],
          "carpet": [
           {
            "aaxis": {
             "endlinecolor": "#2a3f5f",
             "gridcolor": "white",
             "linecolor": "white",
             "minorgridcolor": "white",
             "startlinecolor": "#2a3f5f"
            },
            "baxis": {
             "endlinecolor": "#2a3f5f",
             "gridcolor": "white",
             "linecolor": "white",
             "minorgridcolor": "white",
             "startlinecolor": "#2a3f5f"
            },
            "type": "carpet"
           }
          ],
          "choropleth": [
           {
            "colorbar": {
             "outlinewidth": 0,
             "ticks": ""
            },
            "type": "choropleth"
           }
          ],
          "contour": [
           {
            "colorbar": {
             "outlinewidth": 0,
             "ticks": ""
            },
            "colorscale": [
             [
              0,
              "#0d0887"
             ],
             [
              0.1111111111111111,
              "#46039f"
             ],
             [
              0.2222222222222222,
              "#7201a8"
             ],
             [
              0.3333333333333333,
              "#9c179e"
             ],
             [
              0.4444444444444444,
              "#bd3786"
             ],
             [
              0.5555555555555556,
              "#d8576b"
             ],
             [
              0.6666666666666666,
              "#ed7953"
             ],
             [
              0.7777777777777778,
              "#fb9f3a"
             ],
             [
              0.8888888888888888,
              "#fdca26"
             ],
             [
              1,
              "#f0f921"
             ]
            ],
            "type": "contour"
           }
          ],
          "contourcarpet": [
           {
            "colorbar": {
             "outlinewidth": 0,
             "ticks": ""
            },
            "type": "contourcarpet"
           }
          ],
          "heatmap": [
           {
            "colorbar": {
             "outlinewidth": 0,
             "ticks": ""
            },
            "colorscale": [
             [
              0,
              "#0d0887"
             ],
             [
              0.1111111111111111,
              "#46039f"
             ],
             [
              0.2222222222222222,
              "#7201a8"
             ],
             [
              0.3333333333333333,
              "#9c179e"
             ],
             [
              0.4444444444444444,
              "#bd3786"
             ],
             [
              0.5555555555555556,
              "#d8576b"
             ],
             [
              0.6666666666666666,
              "#ed7953"
             ],
             [
              0.7777777777777778,
              "#fb9f3a"
             ],
             [
              0.8888888888888888,
              "#fdca26"
             ],
             [
              1,
              "#f0f921"
             ]
            ],
            "type": "heatmap"
           }
          ],
          "heatmapgl": [
           {
            "colorbar": {
             "outlinewidth": 0,
             "ticks": ""
            },
            "colorscale": [
             [
              0,
              "#0d0887"
             ],
             [
              0.1111111111111111,
              "#46039f"
             ],
             [
              0.2222222222222222,
              "#7201a8"
             ],
             [
              0.3333333333333333,
              "#9c179e"
             ],
             [
              0.4444444444444444,
              "#bd3786"
             ],
             [
              0.5555555555555556,
              "#d8576b"
             ],
             [
              0.6666666666666666,
              "#ed7953"
             ],
             [
              0.7777777777777778,
              "#fb9f3a"
             ],
             [
              0.8888888888888888,
              "#fdca26"
             ],
             [
              1,
              "#f0f921"
             ]
            ],
            "type": "heatmapgl"
           }
          ],
          "histogram": [
           {
            "marker": {
             "pattern": {
              "fillmode": "overlay",
              "size": 10,
              "solidity": 0.2
             }
            },
            "type": "histogram"
           }
          ],
          "histogram2d": [
           {
            "colorbar": {
             "outlinewidth": 0,
             "ticks": ""
            },
            "colorscale": [
             [
              0,
              "#0d0887"
             ],
             [
              0.1111111111111111,
              "#46039f"
             ],
             [
              0.2222222222222222,
              "#7201a8"
             ],
             [
              0.3333333333333333,
              "#9c179e"
             ],
             [
              0.4444444444444444,
              "#bd3786"
             ],
             [
              0.5555555555555556,
              "#d8576b"
             ],
             [
              0.6666666666666666,
              "#ed7953"
             ],
             [
              0.7777777777777778,
              "#fb9f3a"
             ],
             [
              0.8888888888888888,
              "#fdca26"
             ],
             [
              1,
              "#f0f921"
             ]
            ],
            "type": "histogram2d"
           }
          ],
          "histogram2dcontour": [
           {
            "colorbar": {
             "outlinewidth": 0,
             "ticks": ""
            },
            "colorscale": [
             [
              0,
              "#0d0887"
             ],
             [
              0.1111111111111111,
              "#46039f"
             ],
             [
              0.2222222222222222,
              "#7201a8"
             ],
             [
              0.3333333333333333,
              "#9c179e"
             ],
             [
              0.4444444444444444,
              "#bd3786"
             ],
             [
              0.5555555555555556,
              "#d8576b"
             ],
             [
              0.6666666666666666,
              "#ed7953"
             ],
             [
              0.7777777777777778,
              "#fb9f3a"
             ],
             [
              0.8888888888888888,
              "#fdca26"
             ],
             [
              1,
              "#f0f921"
             ]
            ],
            "type": "histogram2dcontour"
           }
          ],
          "mesh3d": [
           {
            "colorbar": {
             "outlinewidth": 0,
             "ticks": ""
            },
            "type": "mesh3d"
           }
          ],
          "parcoords": [
           {
            "line": {
             "colorbar": {
              "outlinewidth": 0,
              "ticks": ""
             }
            },
            "type": "parcoords"
           }
          ],
          "pie": [
           {
            "automargin": true,
            "type": "pie"
           }
          ],
          "scatter": [
           {
            "fillpattern": {
             "fillmode": "overlay",
             "size": 10,
             "solidity": 0.2
            },
            "type": "scatter"
           }
          ],
          "scatter3d": [
           {
            "line": {
             "colorbar": {
              "outlinewidth": 0,
              "ticks": ""
             }
            },
            "marker": {
             "colorbar": {
              "outlinewidth": 0,
              "ticks": ""
             }
            },
            "type": "scatter3d"
           }
          ],
          "scattercarpet": [
           {
            "marker": {
             "colorbar": {
              "outlinewidth": 0,
              "ticks": ""
             }
            },
            "type": "scattercarpet"
           }
          ],
          "scattergeo": [
           {
            "marker": {
             "colorbar": {
              "outlinewidth": 0,
              "ticks": ""
             }
            },
            "type": "scattergeo"
           }
          ],
          "scattergl": [
           {
            "marker": {
             "colorbar": {
              "outlinewidth": 0,
              "ticks": ""
             }
            },
            "type": "scattergl"
           }
          ],
          "scattermapbox": [
           {
            "marker": {
             "colorbar": {
              "outlinewidth": 0,
              "ticks": ""
             }
            },
            "type": "scattermapbox"
           }
          ],
          "scatterpolar": [
           {
            "marker": {
             "colorbar": {
              "outlinewidth": 0,
              "ticks": ""
             }
            },
            "type": "scatterpolar"
           }
          ],
          "scatterpolargl": [
           {
            "marker": {
             "colorbar": {
              "outlinewidth": 0,
              "ticks": ""
             }
            },
            "type": "scatterpolargl"
           }
          ],
          "scatterternary": [
           {
            "marker": {
             "colorbar": {
              "outlinewidth": 0,
              "ticks": ""
             }
            },
            "type": "scatterternary"
           }
          ],
          "surface": [
           {
            "colorbar": {
             "outlinewidth": 0,
             "ticks": ""
            },
            "colorscale": [
             [
              0,
              "#0d0887"
             ],
             [
              0.1111111111111111,
              "#46039f"
             ],
             [
              0.2222222222222222,
              "#7201a8"
             ],
             [
              0.3333333333333333,
              "#9c179e"
             ],
             [
              0.4444444444444444,
              "#bd3786"
             ],
             [
              0.5555555555555556,
              "#d8576b"
             ],
             [
              0.6666666666666666,
              "#ed7953"
             ],
             [
              0.7777777777777778,
              "#fb9f3a"
             ],
             [
              0.8888888888888888,
              "#fdca26"
             ],
             [
              1,
              "#f0f921"
             ]
            ],
            "type": "surface"
           }
          ],
          "table": [
           {
            "cells": {
             "fill": {
              "color": "#EBF0F8"
             },
             "line": {
              "color": "white"
             }
            },
            "header": {
             "fill": {
              "color": "#C8D4E3"
             },
             "line": {
              "color": "white"
             }
            },
            "type": "table"
           }
          ]
         },
         "layout": {
          "annotationdefaults": {
           "arrowcolor": "#2a3f5f",
           "arrowhead": 0,
           "arrowwidth": 1
          },
          "autotypenumbers": "strict",
          "coloraxis": {
           "colorbar": {
            "outlinewidth": 0,
            "ticks": ""
           }
          },
          "colorscale": {
           "diverging": [
            [
             0,
             "#8e0152"
            ],
            [
             0.1,
             "#c51b7d"
            ],
            [
             0.2,
             "#de77ae"
            ],
            [
             0.3,
             "#f1b6da"
            ],
            [
             0.4,
             "#fde0ef"
            ],
            [
             0.5,
             "#f7f7f7"
            ],
            [
             0.6,
             "#e6f5d0"
            ],
            [
             0.7,
             "#b8e186"
            ],
            [
             0.8,
             "#7fbc41"
            ],
            [
             0.9,
             "#4d9221"
            ],
            [
             1,
             "#276419"
            ]
           ],
           "sequential": [
            [
             0,
             "#0d0887"
            ],
            [
             0.1111111111111111,
             "#46039f"
            ],
            [
             0.2222222222222222,
             "#7201a8"
            ],
            [
             0.3333333333333333,
             "#9c179e"
            ],
            [
             0.4444444444444444,
             "#bd3786"
            ],
            [
             0.5555555555555556,
             "#d8576b"
            ],
            [
             0.6666666666666666,
             "#ed7953"
            ],
            [
             0.7777777777777778,
             "#fb9f3a"
            ],
            [
             0.8888888888888888,
             "#fdca26"
            ],
            [
             1,
             "#f0f921"
            ]
           ],
           "sequentialminus": [
            [
             0,
             "#0d0887"
            ],
            [
             0.1111111111111111,
             "#46039f"
            ],
            [
             0.2222222222222222,
             "#7201a8"
            ],
            [
             0.3333333333333333,
             "#9c179e"
            ],
            [
             0.4444444444444444,
             "#bd3786"
            ],
            [
             0.5555555555555556,
             "#d8576b"
            ],
            [
             0.6666666666666666,
             "#ed7953"
            ],
            [
             0.7777777777777778,
             "#fb9f3a"
            ],
            [
             0.8888888888888888,
             "#fdca26"
            ],
            [
             1,
             "#f0f921"
            ]
           ]
          },
          "colorway": [
           "#636efa",
           "#EF553B",
           "#00cc96",
           "#ab63fa",
           "#FFA15A",
           "#19d3f3",
           "#FF6692",
           "#B6E880",
           "#FF97FF",
           "#FECB52"
          ],
          "font": {
           "color": "#2a3f5f"
          },
          "geo": {
           "bgcolor": "white",
           "lakecolor": "white",
           "landcolor": "#E5ECF6",
           "showlakes": true,
           "showland": true,
           "subunitcolor": "white"
          },
          "hoverlabel": {
           "align": "left"
          },
          "hovermode": "closest",
          "mapbox": {
           "style": "light"
          },
          "paper_bgcolor": "white",
          "plot_bgcolor": "#E5ECF6",
          "polar": {
           "angularaxis": {
            "gridcolor": "white",
            "linecolor": "white",
            "ticks": ""
           },
           "bgcolor": "#E5ECF6",
           "radialaxis": {
            "gridcolor": "white",
            "linecolor": "white",
            "ticks": ""
           }
          },
          "scene": {
           "xaxis": {
            "backgroundcolor": "#E5ECF6",
            "gridcolor": "white",
            "gridwidth": 2,
            "linecolor": "white",
            "showbackground": true,
            "ticks": "",
            "zerolinecolor": "white"
           },
           "yaxis": {
            "backgroundcolor": "#E5ECF6",
            "gridcolor": "white",
            "gridwidth": 2,
            "linecolor": "white",
            "showbackground": true,
            "ticks": "",
            "zerolinecolor": "white"
           },
           "zaxis": {
            "backgroundcolor": "#E5ECF6",
            "gridcolor": "white",
            "gridwidth": 2,
            "linecolor": "white",
            "showbackground": true,
            "ticks": "",
            "zerolinecolor": "white"
           }
          },
          "shapedefaults": {
           "line": {
            "color": "#2a3f5f"
           }
          },
          "ternary": {
           "aaxis": {
            "gridcolor": "white",
            "linecolor": "white",
            "ticks": ""
           },
           "baxis": {
            "gridcolor": "white",
            "linecolor": "white",
            "ticks": ""
           },
           "bgcolor": "#E5ECF6",
           "caxis": {
            "gridcolor": "white",
            "linecolor": "white",
            "ticks": ""
           }
          },
          "title": {
           "x": 0.05
          },
          "xaxis": {
           "automargin": true,
           "gridcolor": "white",
           "linecolor": "white",
           "ticks": "",
           "title": {
            "standoff": 15
           },
           "zerolinecolor": "white",
           "zerolinewidth": 2
          },
          "yaxis": {
           "automargin": true,
           "gridcolor": "white",
           "linecolor": "white",
           "ticks": "",
           "title": {
            "standoff": 15
           },
           "zerolinecolor": "white",
           "zerolinewidth": 2
          }
         }
        },
        "title": {
         "text": "Gráfico de pizza para os samples"
        }
       }
      }
     },
     "metadata": {},
     "output_type": "display_data"
    }
   ],
   "source": [
    "import plotly.express as px\n",
    "import pandas as pd\n",
    "\n",
    "df = pd.read_csv('samplesInBothPaths.csv')\n",
    "\n",
    "category_counts = df['path'].value_counts().reset_index()\n",
    "category_counts.columns = ['grupo', 'quantidade']\n",
    "\n",
    "fig = px.pie(\n",
    "    category_counts,\n",
    "    values='quantidade',\n",
    "    names='grupo',\n",
    "    title='Gráfico de pizza para os samples',\n",
    "    color='grupo',\n",
    ")\n",
    "\n",
    "fig.update_traces(textposition='inside', textinfo='percent+label')\n",
    "\n",
    "fig.show()"
   ]
  }
 ],
 "metadata": {
  "kernelspec": {
   "display_name": "Python 3",
   "language": "python",
   "name": "python3"
  },
  "language_info": {
   "codemirror_mode": {
    "name": "ipython",
    "version": 3
   },
   "file_extension": ".py",
   "mimetype": "text/x-python",
   "name": "python",
   "nbconvert_exporter": "python",
   "pygments_lexer": "ipython3",
   "version": "3.12.7"
  }
 },
 "nbformat": 4,
 "nbformat_minor": 2
}
