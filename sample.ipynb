{
 "cells": [
  {
   "cell_type": "markdown",
   "metadata": {},
   "source": [
    "> *python3 main.py*"
   ]
  },
  {
   "cell_type": "markdown",
   "metadata": {},
   "source": [
    "**☝️Run on Terminal**<br>\n",
    "**👇Run on Notebook**"
   ]
  },
  {
   "cell_type": "markdown",
   "metadata": {},
   "source": [
    "From the file `methods`, we can import all the methods needed for extracting the required code samples."
   ]
  },
  {
   "cell_type": "code",
   "execution_count": 1,
   "metadata": {},
   "outputs": [],
   "source": [
    "from methods import filter_by_date, get_samples_from_csv, split_samples, get_path, get_by_path, create_csv_with_samples\n",
    "from datetime import datetime"
   ]
  },
  {
   "cell_type": "markdown",
   "metadata": {},
   "source": [
    "From the code samples provided, let's utilize code samples posted on StackOverflow within the period from 01/01/2023 to 06/05/2024. Afterwards, let's split the result between `answered` and `unanswered`."
   ]
  },
  {
   "cell_type": "code",
   "execution_count": 2,
   "metadata": {},
   "outputs": [],
   "source": [
    "samples = filter_by_date(get_samples_from_csv('sampleQuestions.csv'), datetime.fromisoformat('2023-01-01'), datetime.fromisoformat('2024-06-05'))\n",
    "answered, unanswered = split_samples(samples)"
   ]
  },
  {
   "cell_type": "markdown",
   "metadata": {},
   "source": [
    "In order to compare results between the unanswered and answered questions groups equally, questions will be filtered by paths that are present in both groups."
   ]
  },
  {
   "cell_type": "code",
   "execution_count": null,
   "metadata": {},
   "outputs": [],
   "source": [
    "paths_in_both = get_path(answered) & get_path(unanswered)    "
   ]
  },
  {
   "cell_type": "markdown",
   "metadata": {},
   "source": [
    "As a result, we have 37 categories remaining out of 47 at first.\n",
    "It is possible to collect the code samples from the remaining paths.\n",
    "Furthermore, it is fair to also split them again."
   ]
  },
  {
   "cell_type": "code",
   "execution_count": null,
   "metadata": {},
   "outputs": [],
   "source": [
    "by_path = []\n",
    "for path in paths_in_both:\n",
    "    by_path.extend(get_by_path(samples, path, None))\n",
    "ans_by_path, uns_by_path = split_samples(by_path)"
   ]
  },
  {
   "cell_type": "markdown",
   "metadata": {},
   "source": [
    "Check the data overview:"
   ]
  },
  {
   "cell_type": "code",
   "execution_count": null,
   "metadata": {},
   "outputs": [],
   "source": [
    "print(f'Total code samples from period: {len(samples)}')\n",
    "print(f'Total samples in both paths {len(by_path)}')\n",
    "print(f'Answered from paths: {len(ans_by_path)}')\n",
    "print(f'Unanswered from paths: {len(uns_by_path)}')\n",
    "print(f'Total of paths present in both: {len(paths_in_both)}')\n",
    "print(f'List of paths in both: {paths_in_both}')"
   ]
  },
  {
   "cell_type": "markdown",
   "metadata": {},
   "source": [
    "Create a csv file with the data:"
   ]
  },
  {
   "cell_type": "code",
   "execution_count": null,
   "metadata": {},
   "outputs": [],
   "source": [
    "create_csv_with_samples(by_path, 'samplesInBothPaths.csv')"
   ]
  }
 ],
 "metadata": {
  "kernelspec": {
   "display_name": "Python 3",
   "language": "python",
   "name": "python3"
  },
  "language_info": {
   "codemirror_mode": {
    "name": "ipython",
    "version": 3
   },
   "file_extension": ".py",
   "mimetype": "text/x-python",
   "name": "python",
   "nbconvert_exporter": "python",
   "pygments_lexer": "ipython3",
   "version": "3.12.3"
  }
 },
 "nbformat": 4,
 "nbformat_minor": 2
}
